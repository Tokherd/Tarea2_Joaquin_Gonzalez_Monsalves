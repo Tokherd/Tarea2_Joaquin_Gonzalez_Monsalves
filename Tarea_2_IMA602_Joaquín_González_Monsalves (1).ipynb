{
 "cells": [
  {
   "cell_type": "markdown",
   "id": "d10d2523",
   "metadata": {},
   "source": [
    "# Alumno: Joaquín Gonzalez Monsalves\n",
    "# Carrera: Ingeniería civil matemática"
   ]
  },
  {
   "cell_type": "code",
   "execution_count": 21,
   "id": "44ff5bb7",
   "metadata": {},
   "outputs": [],
   "source": [
    "#se define la funcion para mostrar el salario mensual,el porcentaje de lo que se ahorra, el costo\n",
    "# del auto de los sueños y el numero de meses que se debe ahorrar para tener el pie inicial\n",
    "def ahorro_auto(salario_mensual,proporcion_ahorrada,costo_auto):\n",
    "    proporcion_pago_inicial=0.2*costo_auto                         # pie inicial para comprar el auto\n",
    "    ahorro_actual=0                                                # mes cero no se tienen ahorros\n",
    "    i=0                                                            # mes cero\n",
    "    while ahorro_actual< proporcion_pago_inicial:                 # si el ahorro actual es menor al pie inicial sigue el proceso\n",
    "        ahorro_actual=ahorro_actual+proporcion_ahorrada*salario_mensual   #se calcula por cada mes el ahorro actual con el ahorro del mes anterior y el que se ahorra del mes actual\n",
    "        i+=1                                                              #se aumenta uno para cambiar el mes\n",
    "    texto=\"Salario mensual:{} \\nporcentaje del salario mensual que voy a ahorrar (decimal):{} \\ncosto del auto de mis sueños: {} \\nnumero de meses que debo ahorrar {}\" # muestra bonito la informacion\n",
    "    print(texto.format(salario_mensual,proporcion_ahorrada,costo_auto,i))  #se muestra por pantalla"
   ]
  },
  {
   "cell_type": "code",
   "execution_count": 22,
   "id": "7eef59ee",
   "metadata": {},
   "outputs": [
    {
     "name": "stdout",
     "output_type": "stream",
     "text": [
      "Salario mensual:1200000 \n",
      "porcentaje del salario mensual que voy a ahorrar (decimal):0.1 \n",
      "costo del auto de mis sueños: 10000000 \n",
      "numero de meses que debo ahorrar 17\n"
     ]
    }
   ],
   "source": [
    "ahorro_auto(1200000,0.1,10000000)"
   ]
  },
  {
   "cell_type": "code",
   "execution_count": 23,
   "id": "cdc44d01",
   "metadata": {},
   "outputs": [],
   "source": [
    "#se ahorran los comentarios anteriores y se ponen donde sea algo nuevo\n",
    "def ahorro_auto_inv(salario_mensual,proporcion_ahorrada,costo_auto):\n",
    "    proporcion_pago_inicial=0.2*costo_auto\n",
    "    ahorro_actual=0\n",
    "    i=0\n",
    "    r=0.1                                                  #rendimiento mensual de las inversiones\n",
    "    inversiones=0                                          # las inversiones son cero en el mes cero\n",
    "    while ahorro_actual< proporcion_pago_inicial:\n",
    "        ahorro_actual=(ahorro_actual+proporcion_ahorrada*salario_mensual)+inversiones # es lo mismo que antes solo que se suma las inversiones obtenidas en el mes anterior , en el mes cero es cero\n",
    "        inversiones=r*ahorro_actual                         #calculo de las inversiones del mes que se sumaran al siguiente ahorro_actual\n",
    "        i+=1\n",
    "        \n",
    "    texto=\"Salario mensual:{} \\nporcentaje del salario mensual que voy a ahorrar (decimal):{} \\ncosto del auto de mis sueños:{} \\nnumero de meses que debo ahorrar {}\"\n",
    "    print(texto.format(salario_mensual,proporcion_ahorrada,costo_auto,i))"
   ]
  },
  {
   "cell_type": "code",
   "execution_count": 24,
   "id": "d421f0ad",
   "metadata": {},
   "outputs": [
    {
     "name": "stdout",
     "output_type": "stream",
     "text": [
      "Salario mensual:1200000 \n",
      "porcentaje del salario mensual que voy a ahorrar (decimal):0.1 \n",
      "costo del auto de mis sueños:10000000 \n",
      "numero de meses que debo ahorrar 11\n"
     ]
    }
   ],
   "source": [
    "ahorro_auto_inv(1200000,0.1,10000000)"
   ]
  },
  {
   "cell_type": "code",
   "execution_count": 25,
   "id": "0f0c1ee0",
   "metadata": {},
   "outputs": [],
   "source": [
    "def ahorro_auto_aum(salario_mensual,proporcion_ahorrada,costo_auto,proporcion_aumento_salario):\n",
    "    proporcion_pago_inicial=0.2*costo_auto\n",
    "    ahorro_actual=0\n",
    "    i=0\n",
    "    r=0.1\n",
    "    inversiones=0\n",
    "    while ahorro_actual< proporcion_pago_inicial:\n",
    "        ahorro_actual=(ahorro_actual+proporcion_ahorrada*salario_mensual)+inversiones\n",
    "        inversiones=r*ahorro_actual\n",
    "        i+=1\n",
    "        if i%6==0:                                                                    # si su resto es cero es multiplo de 6\n",
    "            salario_mensual=salario_mensual+proporcion_aumento_salario*salario_mensual # se sube el sueldo cada ves que se cumple la condicion\n",
    "            \n",
    "        \n",
    "    texto=\"Salario mensual:{} \\nporcentaje del salario mensual que voy a ahorrar (decimal):{} \\ncosto del auto de mis sueños:{} \\nnumero de meses que debo ahorrar {}\"\n",
    "    print(texto.format(salario_mensual,proporcion_ahorrada,costo_auto,i))"
   ]
  },
  {
   "cell_type": "code",
   "execution_count": 26,
   "id": "c1c791c8",
   "metadata": {},
   "outputs": [
    {
     "name": "stdout",
     "output_type": "stream",
     "text": [
      "Salario mensual:1800000.0 \n",
      "porcentaje del salario mensual que voy a ahorrar (decimal):0.1 \n",
      "costo del auto de mis sueños:10000000 \n",
      "numero de meses que debo ahorrar 10\n"
     ]
    }
   ],
   "source": [
    "ahorro_auto_aum(1200000,0.1,10000000,0.5)  "
   ]
  },
  {
   "cell_type": "markdown",
   "id": "f831651b",
   "metadata": {},
   "source": [
    "\n"
   ]
  }
 ],
 "metadata": {
  "kernelspec": {
   "display_name": "Python 3 (ipykernel)",
   "language": "python",
   "name": "python3"
  },
  "language_info": {
   "codemirror_mode": {
    "name": "ipython",
    "version": 3
   },
   "file_extension": ".py",
   "mimetype": "text/x-python",
   "name": "python",
   "nbconvert_exporter": "python",
   "pygments_lexer": "ipython3",
   "version": "3.10.9"
  }
 },
 "nbformat": 4,
 "nbformat_minor": 5
}
